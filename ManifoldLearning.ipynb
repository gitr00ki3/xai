{
  "nbformat": 4,
  "nbformat_minor": 0,
  "metadata": {
    "colab": {
      "private_outputs": true,
      "provenance": []
    },
    "kernelspec": {
      "name": "python3",
      "display_name": "Python 3"
    },
    "language_info": {
      "name": "python"
    }
  },
  "cells": [
    {
      "cell_type": "code",
      "metadata": {
        "id": "J46mOCl6kZYA"
      },
      "source": [
        "from sklearn import datasets\n",
        "import matplotlib.pyplot as plt\n",
        "from mpl_toolkits.mplot3d import Axes3D\n",
        "from matplotlib.ticker import NullFormatter\n",
        "from sklearn import manifold\n",
        "from sklearn.neighbors import kneighbors_graph\n",
        "from sklearn.decomposition import PCA\n",
        "from sklearn.preprocessing import StandardScaler"
      ],
      "execution_count": null,
      "outputs": []
    },
    {
      "cell_type": "code",
      "metadata": {
        "id": "uK0Mtg-BjIVM"
      },
      "source": [
        "def load_data():\n",
        "    x, c = datasets.make_swiss_roll(n_samples=1500, noise=0.01)\n",
        "    return x, c"
      ],
      "execution_count": null,
      "outputs": []
    },
    {
      "cell_type": "code",
      "metadata": {
        "id": "HWl1rZHAsMXF"
      },
      "source": [
        "def pca(x, d):\n",
        "    '''\n",
        "    x: Original high dimension data XxRD\n",
        "    d: Assumed low dimensions on which data actually lies.\n",
        "    '''\n",
        "    scaling=StandardScaler()\n",
        "\n",
        "    # Use fit and transform method\n",
        "    scaling.fit(x)\n",
        "    xd = scaling.transform(x)\n",
        "\n",
        "    principal = PCA(n_components=d)\n",
        "    principal.fit(xd)\n",
        "    xd = principal.transform(xd)\n",
        "    return xd"
      ],
      "execution_count": null,
      "outputs": []
    },
    {
      "cell_type": "code",
      "metadata": {
        "id": "45JgTdM2t9qq"
      },
      "source": [
        "def mds(x, d):\n",
        "    '''\n",
        "    x: Original high dimension data XxRD\n",
        "    d: Assumed low dimensions on which data actually lies.\n",
        "    '''\n",
        "    transformer = manifold.MDS(n_components=d)\n",
        "    xd = transformer.fit_transform(x)\n",
        "    return xd"
      ],
      "execution_count": null,
      "outputs": []
    },
    {
      "cell_type": "code",
      "metadata": {
        "id": "aBKsfbiQuu9o"
      },
      "source": [
        "def tsne(x, d, n):\n",
        "    '''\n",
        "    x: Original high dimension data XxRD\n",
        "    d: Assumed low dimensions on which data actually lies.\n",
        "    n: Perplexity\n",
        "    '''\n",
        "    transformer = manifold.TSNE(n_components=d, perplexity=n)\n",
        "    xd = transformer.fit_transform(x)\n",
        "    return xd"
      ],
      "execution_count": null,
      "outputs": []
    },
    {
      "cell_type": "code",
      "metadata": {
        "id": "oy4t38zUpllK"
      },
      "source": [
        "# IsoMap: Isometric Mapping\n",
        "'''\n",
        "    1. Identify the local neighbors of each data point (number of neighbors- variable).\n",
        "    2. Using any shortest path algorithm create the global graph (Dijkstra, Floydd-Warshall).\n",
        "    3. Apply MDS over the global graph (lower dimension- variable)\n",
        "'''\n",
        "def isomap(x, d, n):\n",
        "    '''\n",
        "    x: Original high dimension data XxRD\n",
        "    d: Assumed low dimensions on which data actually lies.\n",
        "    n: Number of local linear neighbors.\n",
        "    '''\n",
        "    transformer = manifold.Isomap(n_neighbors=n, n_components=d)\n",
        "    xd = transformer.fit_transform(x)\n",
        "    return xd"
      ],
      "execution_count": null,
      "outputs": []
    },
    {
      "cell_type": "code",
      "metadata": {
        "id": "LHfOFukAxLrt"
      },
      "source": [
        "# LLE: Local Linear Embedding\n",
        "'''\n",
        "    1. Find the local neighbors of each data point (Number of neighbors- variable).\n",
        "    2. Solve the generic eigen-value problem.\n",
        "    3. Get the lower dimensional represention (lower dimension- variable).\n",
        "'''\n",
        "def lle(x, d, n):\n",
        "    transformer = manifold.LocallyLinearEmbedding(n_neighbors=n, n_components=d)\n",
        "    xd = transformer.fit_transform(x)\n",
        "    return xd"
      ],
      "execution_count": null,
      "outputs": []
    },
    {
      "cell_type": "code",
      "metadata": {
        "id": "0Gvthy_r1ufX"
      },
      "source": [
        "# Laplacian Eigenmaps\n",
        "def le(x, d, n):\n",
        "    transformer = manifold.SpectralEmbedding(n_components=d, n_neighbors=n, affinity='rbf')\n",
        "    xd = transformer.fit_transform(x)\n",
        "    return xd"
      ],
      "execution_count": null,
      "outputs": []
    },
    {
      "cell_type": "code",
      "metadata": {
        "id": "c9JB0uwIdykV"
      },
      "source": [
        "if __name__=='__main__':\n",
        "    print(\"in main\")\n",
        "    x, c = load_data()\n",
        "    print(x.shape)\n",
        "\n",
        "    # Plot the data\n",
        "    Axes3D\n",
        "    fig = plt.figure(figsize=(15, 7))\n",
        "    ax = fig.add_subplot(321, projection='3d')\n",
        "    ax.view_init(elev=15, azim=90)\n",
        "    ax.scatter(x[:, 0], x[:, 1], x[:, 2], c=c, cmap=plt.cm.nipy_spectral)\n",
        "\n",
        "    xd_pca = pca(x, 2)\n",
        "    print(xd_pca.shape)\n",
        "    ax = fig.add_subplot(322)\n",
        "    # ax.view_init(elev=15, azim=90)\n",
        "    ax.scatter(xd_pca[:, 0], xd_pca[:, 1], c=c, cmap=plt.cm.nipy_spectral)\n",
        "\n",
        "    xd_isomap = isomap(x, 2, 20)\n",
        "    print(xd_isomap.shape)\n",
        "    ax = fig.add_subplot(323)\n",
        "    # ax.view_init(elev=15, azim=90)\n",
        "    ax.scatter(xd_isomap[:, 0], xd_isomap[:, 1], c=c, cmap=plt.cm.nipy_spectral)\n",
        "\n",
        "    xd_lle = lle(x, 2, 20)\n",
        "    print(xd_lle.shape)\n",
        "    ax = fig.add_subplot(324)\n",
        "    # ax.view_init(elev=15, azim=90)\n",
        "    ax.scatter(xd_lle[:, 0], xd_lle[:, 1], c=c, cmap=plt.cm.nipy_spectral)\n",
        "\n",
        "    xd_le = le(x, 2, 20)\n",
        "    print(xd_le.shape)\n",
        "    ax = fig.add_subplot(325)\n",
        "    # ax.view_init(elev=15, azim=90)\n",
        "    ax.scatter(xd_le[:, 0], xd_le[:, 1], c=c, cmap=plt.cm.nipy_spectral)\n",
        "\n",
        "    xd_tsne = tsne(x, 2, 10)\n",
        "    print(xd_tsne.shape)\n",
        "    ax = fig.add_subplot(326)\n",
        "    # ax.view_init(elev=15, azim=90)\n",
        "    ax.scatter(xd_tsne[:, 0], xd_tsne[:, 1], c=c, cmap=plt.cm.nipy_spectral)"
      ],
      "execution_count": null,
      "outputs": []
    }
  ]
}